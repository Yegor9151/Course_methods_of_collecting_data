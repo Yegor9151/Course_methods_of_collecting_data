{
 "cells": [
  {
   "cell_type": "markdown",
   "metadata": {},
   "source": [
    "### Загружаем библеотеки и настраиваем"
   ]
  },
  {
   "cell_type": "code",
   "execution_count": 1,
   "metadata": {},
   "outputs": [],
   "source": [
    "import pandas as pd\n",
    "import matplotlib\n",
    "import matplotlib.pyplot as plt\n",
    "import matplotlib.ticker as ticker\n",
    "from pylab import rcParams\n",
    "\n",
    "%matplotlib inline\n",
    "%config Inlinebackend.figure_format = 'svg'\n",
    "\n",
    "import warnings\n",
    "\n",
    "warnings.filterwarnings('ignore')"
   ]
  },
  {
   "cell_type": "markdown",
   "metadata": {},
   "source": [
    "### Читаем данные и просматриваем информацию"
   ]
  },
  {
   "cell_type": "code",
   "execution_count": 2,
   "metadata": {},
   "outputs": [
    {
     "name": "stdout",
     "output_type": "stream",
     "text": [
      "                                           name  region        date   value\n",
      "0  Количество заявок на потребительские кредиты  Россия  2013-01-15  571147\n",
      "1  Количество заявок на потребительские кредиты  Россия  2013-02-15  504508\n",
      "2  Количество заявок на потребительские кредиты  Россия  2013-03-15  628803\n",
      "3  Количество заявок на потребительские кредиты  Россия  2013-04-15  836054\n",
      "4  Количество заявок на потребительские кредиты  Россия  2013-05-15  867235\n",
      "<class 'pandas.core.frame.DataFrame'>\n",
      "RangeIndex: 74842 entries, 0 to 74841\n",
      "Data columns (total 4 columns):\n",
      "name      74842 non-null object\n",
      "region    74842 non-null object\n",
      "date      74842 non-null object\n",
      "value     74842 non-null int64\n",
      "dtypes: int64(1), object(3)\n",
      "memory usage: 2.3+ MB\n"
     ]
    }
   ],
   "source": [
    "PATH = 'opendata.csv'\n",
    "df = pd.read_csv(PATH, encoding='windows-1251')\n",
    "print(df.head())\n",
    "df.info()"
   ]
  },
  {
   "cell_type": "markdown",
   "metadata": {},
   "source": [
    "### Обзываем остальные столбцы"
   ]
  },
  {
   "cell_type": "code",
   "execution_count": 3,
   "metadata": {},
   "outputs": [],
   "source": [
    "names = df['name']\n",
    "regions = df['region']\n",
    "dates = df['date']\n",
    "values = df['value']"
   ]
  },
  {
   "cell_type": "markdown",
   "metadata": {},
   "source": [
    "### Просматриваем типы данных"
   ]
  },
  {
   "cell_type": "code",
   "execution_count": 4,
   "metadata": {},
   "outputs": [
    {
     "name": "stdout",
     "output_type": "stream",
     "text": [
      "0\tКоличество заявок на потребительские кредиты\n",
      "1\tСредняя сумма заявки на потребительский кредит\n",
      "2\tКоличество заявок на ипотечные кредиты\n",
      "3\tСредняя сумма заявки на ипотечный кредит\n",
      "4\tКоличество новых депозитов\n",
      "5\tСредняя сумма нового депозита\n",
      "6\tСредняя зарплата\n",
      "7\tСредняя пенсия\n",
      "8\tВ среднем руб. на текущем счете на человека\n",
      "9\tВ среднем депозитов в руб. на человека\n",
      "10\tСредние расходы по картам\n",
      "11\tСредний чек в формате Фастфуд\n",
      "12\tСредний чек в формате Ресторан\n",
      "13\tСредние траты в ресторане фастфуд\n",
      "14\tСредние траты в ресторане\n"
     ]
    },
    {
     "data": {
      "text/plain": [
       "15"
      ]
     },
     "execution_count": 4,
     "metadata": {},
     "output_type": "execute_result"
    }
   ],
   "source": [
    "i = 0\n",
    "for name in names.unique():\n",
    "    print(f'{i}\\t{name}')\n",
    "    i += 1\n",
    "len(names.unique())"
   ]
  },
  {
   "cell_type": "markdown",
   "metadata": {},
   "source": [
    "### Просматриваем регионы"
   ]
  },
  {
   "cell_type": "code",
   "execution_count": 5,
   "metadata": {},
   "outputs": [
    {
     "name": "stdout",
     "output_type": "stream",
     "text": [
      "0\tРоссия\n",
      "1\tАлтайский край\n",
      "2\tАмурская область\n",
      "3\tАрхангельская область\n",
      "4\tАстраханская область\n",
      "5\tБелгородская область\n",
      "6\tБрянская область\n",
      "7\tВладимирская область\n",
      "8\tВолгоградская область\n",
      "9\tВологодская область\n",
      "10\tВоронежская область\n",
      "11\tЕврейская автономная область\n",
      "12\tЗабайкальский край\n",
      "13\tИвановская область\n",
      "14\tИркутская область\n",
      "15\tКабардино-Балкарская Республика\n",
      "16\tКалининградская область\n",
      "17\tКалужская область\n",
      "18\tКамчатский край\n",
      "19\tКемеровская область\n",
      "20\tКировская область\n",
      "21\tКостромская область\n",
      "22\tКраснодарский край\n",
      "23\tКрасноярский край\n",
      "24\tКурганская область\n",
      "25\tКурская область\n",
      "26\tЛенинградская область\n",
      "27\tЛипецкая область\n",
      "28\tМагаданская область\n",
      "29\tМосква\n",
      "30\tМосковская область\n",
      "31\tМурманская область\n",
      "32\tНенецкий автономный округ\n",
      "33\tНижегородская область\n",
      "34\tНовгородская область\n",
      "35\tНовосибирская область\n",
      "36\tОмская область\n",
      "37\tОренбургская область\n",
      "38\tОрловская область\n",
      "39\tПензенская область\n",
      "40\tПермский край\n",
      "41\tПриморский край\n",
      "42\tПсковская область\n",
      "43\tРеспублика Адыгея\n",
      "44\tРеспублика Алтай (Горный Алтай)\n",
      "45\tРеспублика Башкортостан\n",
      "46\tРеспублика Бурятия\n",
      "47\tРеспублика Дагестан\n",
      "48\tРеспублика Ингушетия\n",
      "49\tРеспублика Калмыкия\n",
      "50\tРеспублика Карачаево-Черкессия\n",
      "51\tРеспублика Карелия\n",
      "52\tРеспублика Коми\n",
      "53\tРеспублика Марий Эл\n",
      "54\tРеспублика Мордовия\n",
      "55\tРеспублика Саха (Якутия)\n",
      "56\tРеспублика Северная Осетия-Алания\n",
      "57\tРеспублика Татарстан\n",
      "58\tРеспублика Тыва\n",
      "59\tРеспублика Хакасия\n",
      "60\tРостовская область\n",
      "61\tРязанская область\n",
      "62\tСамарская область\n",
      "63\tСанкт-Петербург\n",
      "64\tСаратовская область\n",
      "65\tСахалинская область\n",
      "66\tСвердловская область\n",
      "67\tСмоленская область\n",
      "68\tСтавропольский край\n",
      "69\tТамбовская область\n",
      "70\tТверская область\n",
      "71\tТомская область\n",
      "72\tТульская область\n",
      "73\tТюменская область\n",
      "74\tУдмуртская Республика\n",
      "75\tУльяновская область\n",
      "76\tХабаровский край\n",
      "77\tХанты-Мансийский автономный округ — Югра\n",
      "78\tЧелябинская область\n",
      "79\tЧеченская Республика\n",
      "80\tЧувашская Республика\n",
      "81\tЧукотский автономный округ\n",
      "82\tЯмало-Ненецкий автономный округ\n",
      "83\tЯрославская область\n"
     ]
    },
    {
     "data": {
      "text/plain": [
       "84"
      ]
     },
     "execution_count": 5,
     "metadata": {},
     "output_type": "execute_result"
    }
   ],
   "source": [
    "i = 0\n",
    "for region in regions.unique():\n",
    "    print(f'{i}\\t{region}')\n",
    "    i += 1\n",
    "len(regions.unique())"
   ]
  },
  {
   "cell_type": "markdown",
   "metadata": {},
   "source": [
    "### Вводим данные"
   ]
  },
  {
   "cell_type": "code",
   "execution_count": 6,
   "metadata": {},
   "outputs": [
    {
     "name": "stdout",
     "output_type": "stream",
     "text": [
      "Введите индекс региона: 31\n",
      "Введите индекс данных: 6\n",
      "Введите временной интервал в формате ГГГГ-ММ-ДД\n",
      "от: 2014-01-01\n",
      "до: 2019-01-01\n"
     ]
    }
   ],
   "source": [
    "region = int(input('Введите индекс региона: '))\n",
    "name = int(input('Введите индекс данных: '))\n",
    "print('Введите временной интервал в формате ГГГГ-ММ-ДД')\n",
    "date = [input('от: '), input('до: ')]"
   ]
  },
  {
   "cell_type": "markdown",
   "metadata": {},
   "source": [
    "### Принимаем и просматриваем данные"
   ]
  },
  {
   "cell_type": "code",
   "execution_count": 7,
   "metadata": {},
   "outputs": [
    {
     "data": {
      "image/png": "[encoded data removed]",
      "text/plain": [
       "<Figure size 1224x504 with 1 Axes>"
      ]
     },
     "metadata": {
      "needs_background": "light"
     },
     "output_type": "display_data"
    },
    {
     "data": {
      "text/html": [
       "<div>\n",
       "<style scoped>\n",
       "    .dataframe tbody tr th:only-of-type {\n",
       "        vertical-align: middle;\n",
       "    }\n",
       "\n",
       "    .dataframe tbody tr th {\n",
       "        vertical-align: top;\n",
       "    }\n",
       "\n",
       "    .dataframe thead th {\n",
       "        text-align: right;\n",
       "    }\n",
       "</style>\n",
       "<table border=\"1\" class=\"dataframe\">\n",
       "  <thead>\n",
       "    <tr style=\"text-align: right;\">\n",
       "      <th></th>\n",
       "      <th>name</th>\n",
       "      <th>region</th>\n",
       "      <th>date</th>\n",
       "      <th>value</th>\n",
       "    </tr>\n",
       "  </thead>\n",
       "  <tbody>\n",
       "    <tr>\n",
       "      <td>35957</td>\n",
       "      <td>Средняя зарплата</td>\n",
       "      <td>Мурманская область</td>\n",
       "      <td>2015-01-15</td>\n",
       "      <td>16453</td>\n",
       "    </tr>\n",
       "    <tr>\n",
       "      <td>35958</td>\n",
       "      <td>Средняя зарплата</td>\n",
       "      <td>Мурманская область</td>\n",
       "      <td>2015-02-15</td>\n",
       "      <td>26782</td>\n",
       "    </tr>\n",
       "    <tr>\n",
       "      <td>35959</td>\n",
       "      <td>Средняя зарплата</td>\n",
       "      <td>Мурманская область</td>\n",
       "      <td>2015-03-15</td>\n",
       "      <td>35482</td>\n",
       "    </tr>\n",
       "    <tr>\n",
       "      <td>35960</td>\n",
       "      <td>Средняя зарплата</td>\n",
       "      <td>Мурманская область</td>\n",
       "      <td>2015-04-15</td>\n",
       "      <td>42306</td>\n",
       "    </tr>\n",
       "    <tr>\n",
       "      <td>35961</td>\n",
       "      <td>Средняя зарплата</td>\n",
       "      <td>Мурманская область</td>\n",
       "      <td>2015-05-15</td>\n",
       "      <td>43003</td>\n",
       "    </tr>\n",
       "  </tbody>\n",
       "</table>\n",
       "</div>"
      ],
      "text/plain": [
       "                   name              region        date  value\n",
       "35957  Средняя зарплата  Мурманская область  2015-01-15  16453\n",
       "35958  Средняя зарплата  Мурманская область  2015-02-15  26782\n",
       "35959  Средняя зарплата  Мурманская область  2015-03-15  35482\n",
       "35960  Средняя зарплата  Мурманская область  2015-04-15  42306\n",
       "35961  Средняя зарплата  Мурманская область  2015-05-15  43003"
      ]
     },
     "execution_count": 7,
     "metadata": {},
     "output_type": "execute_result"
    }
   ],
   "source": [
    "comparicon = df[\n",
    "    (names == names.unique()[name]) & \n",
    "    (regions == regions.unique()[0]) & \n",
    "    (dates > date[0]) &\n",
    "    (dates < date[1])\n",
    "] # Россия\n",
    "\n",
    "name_region = df[\n",
    "    (names == names.unique()[name]) & \n",
    "    (regions == regions.unique()[region]) & \n",
    "    (dates > date[0]) &\n",
    "    (dates < date[1])\n",
    "] # Область\n",
    "\n",
    "rcParams['figure.figsize'] = 17, 7\n",
    "plt.plot(comparicon['date'], comparicon['value'], color='green', label=regions.unique()[0])\n",
    "plt.plot(name_region['date'], name_region['value'], color='blue', label=regions.unique()[region])\n",
    "\n",
    "# рисуем основные линии и определяем интервал\n",
    "ax = plt.subplot()\n",
    "ax.xaxis.set_major_locator(ticker.MultipleLocator(4))\n",
    "ax.grid(\n",
    "    which='major',\n",
    "    color='gray'\n",
    ")\n",
    "\n",
    "# рисуем вспомогательные линии и определяем интервал\n",
    "ax.xaxis.set_minor_locator(ticker.MultipleLocator(1))\n",
    "plt.legend(frameon=False)\n",
    "plt.grid(\n",
    "    which='minor',\n",
    "    color='lightgray'\n",
    ")\n",
    "\n",
    "plt.show()\n",
    "name_region.head()"
   ]
  }
 ],
 "metadata": {
  "kernelspec": {
   "display_name": "Python 3",
   "language": "python",
   "name": "python3"
  },
  "language_info": {
   "codemirror_mode": {
    "name": "ipython",
    "version": 3
   },
   "file_extension": ".py",
   "mimetype": "text/x-python",
   "name": "python",
   "nbconvert_exporter": "python",
   "pygments_lexer": "ipython3",
   "version": "3.7.4"
  }
 },
 "nbformat": 4,
 "nbformat_minor": 2
}
